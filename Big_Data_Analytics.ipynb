{
  "cells": [
    {
      "cell_type": "markdown",
      "metadata": {
        "id": "view-in-github",
        "colab_type": "text"
      },
      "source": [
        "<a href=\"https://colab.research.google.com/github/acesur/ST7082CEM/blob/main/Big_Data_Analytics.ipynb\" target=\"_parent\"><img src=\"https://colab.research.google.com/assets/colab-badge.svg\" alt=\"Open In Colab\"/></a>"
      ]
    },
    {
      "cell_type": "code",
      "execution_count": null,
      "metadata": {
        "colab": {
          "base_uri": "https://localhost:8080/"
        },
        "id": "zNmNIIcdFFZn",
        "outputId": "30509cf4-17c9-4028-f323-1783cf79bb0b"
      },
      "outputs": [
        {
          "output_type": "stream",
          "name": "stdout",
          "text": [
            "W: Skipping acquire of configured file 'main/source/Sources' as repository 'https://r2u.stat.illinois.edu/ubuntu jammy InRelease' does not seem to provide it (sources.list entry misspelt?)\n"
          ]
        }
      ],
      "source": [
        "# Install required packages in Colab\n",
        "!apt-get update -qq\n",
        "!apt-get install -y openjdk-8-jdk-headless -qq > /dev/null\n",
        "!wget -q https://archive.apache.org/dist/spark/spark-3.3.0/spark-3.3.0-bin-hadoop3.tgz\n",
        "!tar xf spark-3.3.0-bin-hadoop3.tgz\n",
        "!pip install -q findspark pyspark==3.3.0\n",
        "!pip install -q kaggle"
      ]
    },
    {
      "cell_type": "code",
      "execution_count": null,
      "metadata": {
        "colab": {
          "base_uri": "https://localhost:8080/"
        },
        "id": "DjvuHXawjG4T",
        "outputId": "b430f814-a5ce-4d29-999c-ce4fe83f00ef"
      },
      "outputs": [
        {
          "output_type": "stream",
          "name": "stdout",
          "text": [
            "Setting up environment for Google Colab...\n",
            "============================================================\n"
          ]
        }
      ],
      "source": [
        "# ============================================================================\n",
        "# SECTION 1: GOOGLE COLAB SETUP (FIXED VERSION)\n",
        "# ============================================================================\n",
        "\n",
        "# Install required packages in Colab (fixed approach)\n",
        "print(\"Setting up environment for Google Colab...\")\n",
        "print(\"=\" * 60)"
      ]
    },
    {
      "cell_type": "code",
      "execution_count": null,
      "metadata": {
        "id": "H5Pq0C6hjW0w"
      },
      "outputs": [],
      "source": [
        "# Install Java and other dependencies\n",
        "!apt-get update -qq > /dev/null 2>&1\n",
        "!apt-get install -y openjdk-8-jdk-headless -qq > /dev/null 2>&1"
      ]
    },
    {
      "cell_type": "code",
      "execution_count": null,
      "metadata": {
        "id": "DUvMxwpzjfBf"
      },
      "outputs": [],
      "source": [
        "# Set environment variables\n",
        "import os\n",
        "os.environ[\"JAVA_HOME\"] = \"/usr/lib/jvm/java-8-openjdk-amd64\""
      ]
    },
    {
      "cell_type": "code",
      "execution_count": null,
      "metadata": {
        "colab": {
          "base_uri": "https://localhost:8080/"
        },
        "id": "hNrLRrAHjjys",
        "outputId": "bd9dbc3e-306d-4ec9-c1b0-939c31d20436"
      },
      "outputs": [
        {
          "output_type": "stream",
          "name": "stdout",
          "text": [
            "✓ Using Colab's pre-installed PySpark\n"
          ]
        }
      ],
      "source": [
        "# Use Colab's pre-installed PySpark (avoids dependency conflicts)\n",
        "try:\n",
        "    from pyspark.sql import SparkSession\n",
        "    print(\"✓ Using Colab's pre-installed PySpark\")\n",
        "except ImportError:\n",
        "    print(\"Installing PySpark...\")\n",
        "    !pip install pyspark -q\n",
        "    from pyspark.sql import SparkSession"
      ]
    },
    {
      "cell_type": "code",
      "execution_count": null,
      "metadata": {
        "colab": {
          "base_uri": "https://localhost:8080/"
        },
        "id": "GV4e9pibjpeI",
        "outputId": "1b7e1357-12d4-45f7-83fa-e7465922ce86"
      },
      "outputs": [
        {
          "output_type": "stream",
          "name": "stdout",
          "text": [
            "✓ Kaggle API installed\n"
          ]
        }
      ],
      "source": [
        "# Install additional required packages\n",
        "!pip install kaggle -q\n",
        "print(\"✓ Kaggle API installed\")"
      ]
    },
    {
      "cell_type": "code",
      "execution_count": null,
      "metadata": {
        "colab": {
          "base_uri": "https://localhost:8080/"
        },
        "id": "mPfubRLgjtd-",
        "outputId": "b5b7b08b-5266-4504-ee6d-d7989b2581b7"
      },
      "outputs": [
        {
          "output_type": "stream",
          "name": "stdout",
          "text": [
            "✓ Environment setup completed successfully!\n"
          ]
        }
      ],
      "source": [
        "print(\"✓ Environment setup completed successfully!\")"
      ]
    },
    {
      "cell_type": "code",
      "execution_count": null,
      "metadata": {
        "id": "jJR1gZqKjxQW"
      },
      "outputs": [],
      "source": [
        "# Import all required libraries\n",
        "from pyspark.sql import SparkSession\n",
        "from pyspark.sql.functions import *\n",
        "from pyspark.sql.types import *\n",
        "from pyspark.ml import Pipeline\n",
        "from pyspark.ml.feature import VectorAssembler, StringIndexer, StandardScaler\n",
        "from pyspark.ml.classification import RandomForestClassifier, LogisticRegression, DecisionTreeClassifier\n",
        "from pyspark.ml.regression import LinearRegression, RandomForestRegressor\n",
        "from pyspark.ml.clustering import KMeans, BisectingKMeans\n",
        "from pyspark.ml.evaluation import MulticlassClassificationEvaluator, RegressionEvaluator, ClusteringEvaluator\n",
        "import pandas as pd\n",
        "import numpy as np\n",
        "import matplotlib.pyplot as plt\n",
        "import seaborn as sns"
      ]
    },
    {
      "cell_type": "code",
      "execution_count": null,
      "metadata": {
        "colab": {
          "base_uri": "https://localhost:8080/"
        },
        "id": "rLR91pzcj0Q4",
        "outputId": "91ebdf10-7cb4-4a45-e397-5d0c67311410"
      },
      "outputs": [
        {
          "output_type": "stream",
          "name": "stdout",
          "text": [
            "\n",
            "================================================================================\n",
            "BIG DATA ANALYTICS FOR SMART AGRICULTURE - GOOGLE COLAB\n",
            "Plant Physiological Data Analysis using PySpark\n",
            "================================================================================\n"
          ]
        }
      ],
      "source": [
        "print(\"\\n\" + \"=\" * 80)\n",
        "print(\"BIG DATA ANALYTICS FOR SMART AGRICULTURE - GOOGLE COLAB\")\n",
        "print(\"Plant Physiological Data Analysis using PySpark\")\n",
        "print(\"=\" * 80)"
      ]
    },
    {
      "cell_type": "code",
      "execution_count": null,
      "metadata": {
        "colab": {
          "base_uri": "https://localhost:8080/"
        },
        "id": "LNxAmGx-j3kV",
        "outputId": "71167392-1b23-429b-ea0b-6d702d0bd827"
      },
      "outputs": [
        {
          "output_type": "stream",
          "name": "stdout",
          "text": [
            "\n",
            "==================================================\n",
            "SETTING UP KAGGLE API AND DOWNLOADING DATASET\n",
            "==================================================\n"
          ]
        }
      ],
      "source": [
        "# ============================================================================\n",
        "# SECTION 2: KAGGLE API SETUP AND DATASET DOWNLOAD\n",
        "# ============================================================================\n",
        "\n",
        "print(\"\\n\" + \"=\" * 50)\n",
        "print(\"SETTING UP KAGGLE API AND DOWNLOADING DATASET\")\n",
        "print(\"=\" * 50)"
      ]
    },
    {
      "cell_type": "code",
      "execution_count": null,
      "metadata": {
        "colab": {
          "base_uri": "https://localhost:8080/"
        },
        "id": "-F_53x0HkRsK",
        "outputId": "e1a0e9df-1774-443d-9d58-d82b4b4dc2a6"
      },
      "outputs": [
        {
          "output_type": "stream",
          "name": "stdout",
          "text": [
            "\n",
            "==================================================\n",
            "DOWNLOADING DATASET FROM KAGGLE\n",
            "==================================================\n",
            "🔄 Downloading dataset from Kaggle...\n",
            "✓ Dataset downloaded to: /kaggle/input/advanced-iot-agriculture-2024\n",
            "✓ Downloaded files: ['Advanced_IoT_Dataset.csv']\n",
            "✓ CSV file copied: 'Advanced_IoT_Dataset.csv' → 'Advanced_IoT_Dataset.csv'\n",
            "✓ File size: 6.58 MB\n",
            "✓ CSV headers: Random, Average  of chlorophyll in the plant (ACHP), Plant height rate (PHR),Average wet weight of the growth vegetative (AWWGV),Average leaf area of the plant (ALAP),Average number of plant leaves (ANPL),Average root diameter (ARD), Average dry weight of the root (ADWR), Percentage of dry matter for vegetative growth (PDMVG),Average root length (ARL),Average wet weight of the root (AWWR), Average dry weight of vegetative plants (ADWV),Percentage of dry matter for root growth (PDMRG),Class\n",
            "✓ Dataset file is ready for processing!\n",
            "✓ Data preview (3 rows, 14 columns):\n",
            "  Random   Average  of chlorophyll in the plant (ACHP)  \\\n",
            "0     R1                                     34.533468   \n",
            "1     R1                                     34.489028   \n",
            "2     R2                                     33.100405   \n",
            "\n",
            "    Plant height rate (PHR)  \\\n",
            "0                 54.566983   \n",
            "1                 54.567692   \n",
            "2                 67.067344   \n",
            "\n",
            "   Average wet weight of the growth vegetative (AWWGV)  \\\n",
            "0                                           1.147449     \n",
            "1                                           1.149530     \n",
            "2                                           1.104647     \n",
            "\n",
            "   Average leaf area of the plant (ALAP)  \\\n",
            "0                            1284.229549   \n",
            "1                            1284.247744   \n",
            "2                            1009.208996   \n",
            "\n",
            "   Average number of plant leaves (ANPL)  Average root diameter (ARD)  \\\n",
            "0                               4.999713                    16.274918   \n",
            "1                               5.024259                    16.269452   \n",
            "2                               5.007652                    15.980760   \n",
            "\n",
            "    Average dry weight of the root (ADWR)  \\\n",
            "0                                1.706810   \n",
            "1                                1.700930   \n",
            "2                                1.185391   \n",
            "\n",
            "    Percentage of dry matter for vegetative growth (PDMVG)  \\\n",
            "0                                          18.399982         \n",
            "1                                          18.398289         \n",
            "2                                          19.398789         \n",
            "\n",
            "   Average root length (ARL)  Average wet weight of the root (AWWR)  \\\n",
            "0                  19.739037                               2.949240   \n",
            "1                  19.758836                               2.943137   \n",
            "2                  20.840822                               2.861635   \n",
            "\n",
            "    Average dry weight of vegetative plants (ADWV)  \\\n",
            "0                                         0.209251   \n",
            "1                                         0.216154   \n",
            "2                                         0.200113   \n",
            "\n",
            "   Percentage of dry matter for root growth (PDMRG) Class  \n",
            "0                                         57.633906    SA  \n",
            "1                                         57.633697    SA  \n",
            "2                                         41.289875    SA  \n"
          ]
        }
      ],
      "source": [
        "# ============================================================================\n",
        "# SECTION 2: DIRECT KAGGLE DATASET DOWNLOAD\n",
        "# ============================================================================\n",
        "\n",
        "print(\"\\n\" + \"=\" * 50)\n",
        "print(\"DOWNLOADING DATASET FROM KAGGLE\")\n",
        "print(\"=\" * 50)\n",
        "\n",
        "import kagglehub\n",
        "import os\n",
        "import shutil\n",
        "\n",
        "try:\n",
        "    print(\"🔄 Downloading dataset from Kaggle...\")\n",
        "\n",
        "    # Download latest version\n",
        "    path = kagglehub.dataset_download(\"wisam1985/advanced-iot-agriculture-2024\")\n",
        "    print(f\"✓ Dataset downloaded to: {path}\")\n",
        "\n",
        "    # List all files in the downloaded directory\n",
        "    downloaded_files = os.listdir(path)\n",
        "    print(f\"✓ Downloaded files: {downloaded_files}\")\n",
        "\n",
        "    # Find the CSV file (it might have a different name)\n",
        "    csv_files = [f for f in downloaded_files if f.endswith('.csv')]\n",
        "\n",
        "    if csv_files:\n",
        "        source_csv = os.path.join(path, csv_files[0])\n",
        "        target_csv = \"Advanced_IoT_Dataset.csv\"\n",
        "\n",
        "        # Copy the CSV file to current directory with consistent name\n",
        "        shutil.copy2(source_csv, target_csv)\n",
        "\n",
        "        # Check file size\n",
        "        file_size = os.path.getsize(target_csv) / (1024 * 1024)  # Size in MB\n",
        "        print(f\"✓ CSV file copied: '{csv_files[0]}' → '{target_csv}'\")\n",
        "        print(f\"✓ File size: {file_size:.2f} MB\")\n",
        "\n",
        "        # Quick peek at the file\n",
        "        with open(target_csv, 'r') as f:\n",
        "            first_line = f.readline().strip()\n",
        "            print(f\"✓ CSV headers: {first_line}\")\n",
        "\n",
        "    else:\n",
        "        print(\"❌ No CSV files found in the downloaded dataset\")\n",
        "        print(\"Available files:\", downloaded_files)\n",
        "\n",
        "except Exception as e:\n",
        "    print(f\"❌ Download failed: {e}\")\n",
        "    print(\"Possible solutions:\")\n",
        "    print(\"1. Make sure you have kagglehub installed: !pip install kagglehub\")\n",
        "    print(\"2. Check your internet connection\")\n",
        "    print(\"3. Verify the dataset exists: https://www.kaggle.com/datasets/wisam1985/advanced-iot-agriculture-2024\")\n",
        "    print(\"4. Try manual upload as backup\")\n",
        "\n",
        "# Verify final file exists and is ready\n",
        "if os.path.exists(\"Advanced_IoT_Dataset.csv\"):\n",
        "    print(\"✓ Dataset file is ready for processing!\")\n",
        "\n",
        "    # Quick data preview\n",
        "    try:\n",
        "        import pandas as pd\n",
        "        preview_df = pd.read_csv(\"Advanced_IoT_Dataset.csv\", nrows=3)\n",
        "        print(f\"✓ Data preview ({preview_df.shape[0]} rows, {preview_df.shape[1]} columns):\")\n",
        "        print(preview_df.head())\n",
        "    except Exception as e:\n",
        "        print(f\"Could not preview data: {e}\")\n",
        "\n",
        "else:\n",
        "    print(\"❌ Dataset file not found. Please check the download or try manual upload.\")"
      ]
    },
    {
      "cell_type": "code",
      "execution_count": null,
      "metadata": {
        "id": "5NH0p0LDlwgY"
      },
      "outputs": [],
      "source": [
        "# ============================================================================\n",
        "# SECTION 3: PYSPARK SESSION INITIALIZATION\n",
        "# ============================================================================\n",
        "\n",
        "# Initialize Spark Session optimized for Colab\n",
        "spark = SparkSession.builder \\\n",
        "    .appName(\"PlantAnalytics_STW7082CEM_DirectUpload\") \\\n",
        "    .config(\"spark.driver.memory\", \"4g\") \\\n",
        "    .config(\"spark.driver.maxResultSize\", \"1g\") \\\n",
        "    .config(\"spark.sql.adaptive.enabled\", \"true\") \\\n",
        "    .config(\"spark.sql.adaptive.coalescePartitions.enabled\", \"true\") \\\n",
        "    .config(\"spark.serializer\", \"org.apache.spark.serializer.KryoSerializer\") \\\n",
        "    .getOrCreate()"
      ]
    },
    {
      "cell_type": "code",
      "execution_count": null,
      "metadata": {
        "colab": {
          "base_uri": "https://localhost:8080/"
        },
        "id": "-IJNqDMzlz5-",
        "outputId": "370aa3d1-9d0d-4be6-e681-4c88e9f47f33"
      },
      "outputs": [
        {
          "output_type": "stream",
          "name": "stdout",
          "text": [
            "✓ Spark Version: 3.3.0\n",
            "✓ Spark Context: PlantAnalytics_STW7082CEM_DirectUpload\n",
            "✓ Spark session initialized successfully!\n"
          ]
        }
      ],
      "source": [
        "# Reduce log verbosity\n",
        "spark.sparkContext.setLogLevel(\"ERROR\")\n",
        "\n",
        "print(f\"✓ Spark Version: {spark.version}\")\n",
        "print(f\"✓ Spark Context: {spark.sparkContext.appName}\")\n",
        "print(\"✓ Spark session initialized successfully!\")"
      ]
    },
    {
      "cell_type": "code",
      "execution_count": null,
      "metadata": {
        "colab": {
          "base_uri": "https://localhost:8080/"
        },
        "id": "VvBcoZiMl31-",
        "outputId": "f38245b5-0a09-4d44-c95b-db066fa0ef10"
      },
      "outputs": [
        {
          "output_type": "stream",
          "name": "stdout",
          "text": [
            "\n",
            "==================================================\n",
            "LOADING DATASET AND CREATING TEMPORARY VIEW\n",
            "==================================================\n"
          ]
        }
      ],
      "source": [
        "# ============================================================================\n",
        "# SECTION 4: DATASET LOADING AND TEMPORARY VIEW CREATION\n",
        "# ============================================================================\n",
        "\n",
        "print(\"\\n\" + \"=\" * 50)\n",
        "print(\"LOADING DATASET AND CREATING TEMPORARY VIEW\")\n",
        "print(\"=\" * 50)"
      ]
    },
    {
      "cell_type": "code",
      "execution_count": null,
      "metadata": {
        "colab": {
          "base_uri": "https://localhost:8080/"
        },
        "id": "8L25V6Hkl8mi",
        "outputId": "eb0527f4-fa37-4eb6-b1ab-8af757333318"
      },
      "outputs": [
        {
          "output_type": "stream",
          "name": "stdout",
          "text": [
            "✓ Dataset loaded successfully!\n",
            "✓ Rows: 30,000\n",
            "✓ Columns: 14\n",
            "✓ Temporary view 'plant_data' created successfully!\n"
          ]
        }
      ],
      "source": [
        "# Load the CSV file\n",
        "try:\n",
        "    df = spark.read.option(\"header\", \"true\") \\\n",
        "                  .option(\"inferSchema\", \"true\") \\\n",
        "                  .csv(\"Advanced_IoT_Dataset.csv\")\n",
        "\n",
        "    print(f\"✓ Dataset loaded successfully!\")\n",
        "    print(f\"✓ Rows: {df.count():,}\")\n",
        "    print(f\"✓ Columns: {len(df.columns)}\")\n",
        "\n",
        "    # Create temporary view for SQL operations\n",
        "    df.createOrReplaceTempView(\"plant_data\")\n",
        "    print(\"✓ Temporary view 'plant_data' created successfully!\")\n",
        "\n",
        "except Exception as e:\n",
        "    print(f\"❌ Failed to load dataset: {e}\")\n",
        "    print(\"Please ensure the CSV file was uploaded correctly\")"
      ]
    },
    {
      "cell_type": "code",
      "execution_count": null,
      "metadata": {
        "colab": {
          "base_uri": "https://localhost:8080/"
        },
        "id": "BWPE1G33mCNI",
        "outputId": "137be266-c34e-4ca0-ccb0-1856926fe467"
      },
      "outputs": [
        {
          "output_type": "stream",
          "name": "stdout",
          "text": [
            "\n",
            "Dataset Schema:\n",
            "root\n",
            " |-- Random: string (nullable = true)\n",
            " |--  Average  of chlorophyll in the plant (ACHP): double (nullable = true)\n",
            " |--  Plant height rate (PHR): double (nullable = true)\n",
            " |-- Average wet weight of the growth vegetative (AWWGV): double (nullable = true)\n",
            " |-- Average leaf area of the plant (ALAP): double (nullable = true)\n",
            " |-- Average number of plant leaves (ANPL): double (nullable = true)\n",
            " |-- Average root diameter (ARD): double (nullable = true)\n",
            " |--  Average dry weight of the root (ADWR): double (nullable = true)\n",
            " |--  Percentage of dry matter for vegetative growth (PDMVG): double (nullable = true)\n",
            " |-- Average root length (ARL): double (nullable = true)\n",
            " |-- Average wet weight of the root (AWWR): double (nullable = true)\n",
            " |--  Average dry weight of vegetative plants (ADWV): double (nullable = true)\n",
            " |-- Percentage of dry matter for root growth (PDMRG): double (nullable = true)\n",
            " |-- Class: string (nullable = true)\n",
            "\n"
          ]
        }
      ],
      "source": [
        "# Display schema\n",
        "print(\"\\nDataset Schema:\")\n",
        "df.printSchema()"
      ]
    },
    {
      "cell_type": "code",
      "execution_count": null,
      "metadata": {
        "colab": {
          "base_uri": "https://localhost:8080/"
        },
        "id": "_uJJFNeKmHb_",
        "outputId": "a8cdac1f-c694-4db2-e118-a82f966fab75"
      },
      "outputs": [
        {
          "output_type": "stream",
          "name": "stdout",
          "text": [
            "\n",
            "Sample Data (using SQL on temporary view):\n",
            "+------+--------------------------------------------+------------------------+---------------------------------------------------+-------------------------------------+-------------------------------------+---------------------------+--------------------------------------+-------------------------------------------------------+-------------------------+-------------------------------------+-----------------------------------------------+------------------------------------------------+-----+\n",
            "|Random| Average  of chlorophyll in the plant (ACHP)| Plant height rate (PHR)|Average wet weight of the growth vegetative (AWWGV)|Average leaf area of the plant (ALAP)|Average number of plant leaves (ANPL)|Average root diameter (ARD)| Average dry weight of the root (ADWR)| Percentage of dry matter for vegetative growth (PDMVG)|Average root length (ARL)|Average wet weight of the root (AWWR)| Average dry weight of vegetative plants (ADWV)|Percentage of dry matter for root growth (PDMRG)|Class|\n",
            "+------+--------------------------------------------+------------------------+---------------------------------------------------+-------------------------------------+-------------------------------------+---------------------------+--------------------------------------+-------------------------------------------------------+-------------------------+-------------------------------------+-----------------------------------------------+------------------------------------------------+-----+\n",
            "|    R1|                           34.53346785732356|       54.56698291488631|                                 1.1474490163213231|                   1284.2295490809163|                    4.999713080337564|         16.274917909603804|                    1.7068098312939444|                                       18.3999815454843|       19.739037367484507|                       2.949240289382|                            0.20925092418014135|                               57.63390559200267|   SA|\n",
            "|    R1|                          34.489028306353774|      54.567692119609205|                                   1.14952979764288|                   1284.2477438838728|                   5.0242591545154855|          16.26945189117167|                    1.7009296662879505|                                      18.39828850474991|       19.758835718631143|                    2.943137388074499|                             0.2161538792486169|                              57.633697112726246|   SA|\n",
            "|    R2|                          33.100404726849035|       67.06734370835316|                                 1.1046472057956482|                   1009.2089958405224|                    5.007651977964805|         15.980759942209026|                    1.1853914852825433|                                     19.398788776500265|       20.840821891276754|                     2.86163502538269|                            0.20011288929084536|                               41.28987494855647|   SA|\n",
            "+------+--------------------------------------------+------------------------+---------------------------------------------------+-------------------------------------+-------------------------------------+---------------------------+--------------------------------------+-------------------------------------------------------+-------------------------+-------------------------------------+-----------------------------------------------+------------------------------------------------+-----+\n",
            "\n"
          ]
        }
      ],
      "source": [
        "# Show sample data using SQL\n",
        "print(\"\\nSample Data (using SQL on temporary view):\")\n",
        "sample_data = spark.sql(\"SELECT * FROM plant_data LIMIT 3\")\n",
        "sample_data.show(3, truncate=True)"
      ]
    },
    {
      "cell_type": "code",
      "execution_count": null,
      "metadata": {
        "colab": {
          "base_uri": "https://localhost:8080/"
        },
        "id": "9_HFoN9WmLDJ",
        "outputId": "717f669d-706c-4f7a-d95a-891ee5c7177b"
      },
      "outputs": [
        {
          "output_type": "stream",
          "name": "stdout",
          "text": [
            "\n",
            "Dataset Overview:\n",
            "+----------+--------------+-------------------+\n",
            "|total_rows|unique_classes|experimental_groups|\n",
            "+----------+--------------+-------------------+\n",
            "|     30000|             6|                  3|\n",
            "+----------+--------------+-------------------+\n",
            "\n"
          ]
        }
      ],
      "source": [
        "# Basic statistics using SQL\n",
        "print(\"\\nDataset Overview:\")\n",
        "overview = spark.sql(\"\"\"\n",
        "    SELECT\n",
        "        COUNT(*) as total_rows,\n",
        "        COUNT(DISTINCT Class) as unique_classes,\n",
        "        COUNT(DISTINCT Random) as experimental_groups\n",
        "    FROM plant_data\n",
        "\"\"\")\n",
        "overview.show()"
      ]
    },
    {
      "cell_type": "code",
      "execution_count": null,
      "metadata": {
        "colab": {
          "base_uri": "https://localhost:8080/"
        },
        "id": "SSU9MUnImPdm",
        "outputId": "e6ee8105-9cdf-4a1c-d9a7-018fe424f71a"
      },
      "outputs": [
        {
          "output_type": "stream",
          "name": "stdout",
          "text": [
            "\n",
            "Class Distribution Check:\n",
            "+-----+-----+\n",
            "|Class|count|\n",
            "+-----+-----+\n",
            "|   SA| 5000|\n",
            "|   SB| 5000|\n",
            "|   SC| 5000|\n",
            "|   TA| 5000|\n",
            "|   TB| 5000|\n",
            "|   TC| 5000|\n",
            "+-----+-----+\n",
            "\n"
          ]
        }
      ],
      "source": [
        "# Check if data looks correct\n",
        "print(\"\\nClass Distribution Check:\")\n",
        "class_check = spark.sql(\"\"\"\n",
        "    SELECT Class, COUNT(*) as count\n",
        "    FROM plant_data\n",
        "    GROUP BY Class\n",
        "    ORDER BY Class\n",
        "\"\"\")\n",
        "class_check.show()"
      ]
    },
    {
      "cell_type": "code",
      "execution_count": null,
      "metadata": {
        "colab": {
          "base_uri": "https://localhost:8080/"
        },
        "id": "_AaZAo-ImTVY",
        "outputId": "499af2cb-5b1a-45a4-b51c-f1dc11108028"
      },
      "outputs": [
        {
          "output_type": "stream",
          "name": "stdout",
          "text": [
            "\n",
            "==================================================\n",
            "DATA PREPROCESSING AND FEATURE ENGINEERING\n",
            "==================================================\n"
          ]
        }
      ],
      "source": [
        "# ============================================================================\n",
        "# SECTION 5: DATA PREPROCESSING AND FEATURE ENGINEERING\n",
        "# ============================================================================\n",
        "\n",
        "print(\"\\n\" + \"=\" * 50)\n",
        "print(\"DATA PREPROCESSING AND FEATURE ENGINEERING\")\n",
        "print(\"=\" * 50)"
      ]
    },
    {
      "cell_type": "code",
      "execution_count": null,
      "metadata": {
        "colab": {
          "base_uri": "https://localhost:8080/"
        },
        "id": "L0fTU1AjmW7R",
        "outputId": "c3ccfa59-d53a-42d4-e155-8f06b2d2661c"
      },
      "outputs": [
        {
          "output_type": "stream",
          "name": "stdout",
          "text": [
            "\n",
            "==================================================\n",
            "EXPLORATORY DATA ANALYSIS USING SQL\n",
            "==================================================\n",
            "1. Class Distribution Analysis:\n",
            "+-----+-----+----------+\n",
            "|Class|count|percentage|\n",
            "+-----+-----+----------+\n",
            "|   SA| 5000|     16.67|\n",
            "|   SB| 5000|     16.67|\n",
            "|   SC| 5000|     16.67|\n",
            "|   TA| 5000|     16.67|\n",
            "|   TB| 5000|     16.67|\n",
            "|   TC| 5000|     16.67|\n",
            "+-----+-----+----------+\n",
            "\n"
          ]
        }
      ],
      "source": [
        "# ============================================================================\n",
        "# EXPLORATORY DATA ANALYSIS\n",
        "# ============================================================================\n",
        "\n",
        "print(\"\\n\" + \"=\" * 50)\n",
        "print(\"EXPLORATORY DATA ANALYSIS USING SQL\")\n",
        "print(\"=\" * 50)\n",
        "\n",
        "# 1. Class distribution analysis\n",
        "print(\"1. Class Distribution Analysis:\")\n",
        "class_dist = spark.sql(\"\"\"\n",
        "    SELECT Class, COUNT(*) as count,\n",
        "           ROUND(COUNT(*) * 100.0 / (SELECT COUNT(*) FROM plant_data), 2) as percentage\n",
        "    FROM plant_data\n",
        "    GROUP BY Class\n",
        "    ORDER BY Class\n",
        "\"\"\")\n",
        "class_dist.show()"
      ]
    },
    {
      "cell_type": "code",
      "execution_count": null,
      "metadata": {
        "colab": {
          "base_uri": "https://localhost:8080/"
        },
        "id": "kO-I20P5ps9J",
        "outputId": "b5b6c506-c706-4a5b-cbb6-17ec7edaedae"
      },
      "outputs": [
        {
          "output_type": "stream",
          "name": "stdout",
          "text": [
            "\n",
            "============================================================\n",
            "DATA PREPROCESSING WITH EXACT COLUMN NAMES\n",
            "============================================================\n",
            "✓ Column names cleaned using exact CSV structure!\n"
          ]
        }
      ],
      "source": [
        "#============================================================================\n",
        "# SECTION 1: DATA PREPROCESSING WITH EXACT COLUMN NAMES\n",
        "# ============================================================================\n",
        "\n",
        "print(\"\\n\" + \"=\" * 60)\n",
        "print(\"DATA PREPROCESSING WITH EXACT COLUMN NAMES\")\n",
        "print(\"=\" * 60)\n",
        "\n",
        "# Clean column names using the EXACT names from your CSV\n",
        "spark.sql(\"\"\"\n",
        "    CREATE OR REPLACE TEMPORARY VIEW plant_data_clean AS\n",
        "    SELECT\n",
        "        Random,\n",
        "        ` Average  of chlorophyll in the plant (ACHP)` AS chlorophyll,\n",
        "        ` Plant height rate (PHR)` AS height_rate,\n",
        "        `Average wet weight of the growth vegetative (AWWGV)` AS wet_weight_vegetative,\n",
        "        `Average leaf area of the plant (ALAP)` AS leaf_area,\n",
        "        `Average number of plant leaves (ANPL)` AS leaf_count,\n",
        "        `Average root diameter (ARD)` AS root_diameter,\n",
        "        ` Average dry weight of the root (ADWR)` AS dry_weight_root,\n",
        "        ` Percentage of dry matter for vegetative growth (PDMVG)` AS dry_matter_vegetative,\n",
        "        `Average root length (ARL)` AS root_length,\n",
        "        `Average wet weight of the root (AWWR)` AS wet_weight_root,\n",
        "        ` Average dry weight of vegetative plants (ADWV)` AS dry_weight_vegetative,\n",
        "        `Percentage of dry matter for root growth (PDMRG)` AS dry_matter_root,\n",
        "        Class\n",
        "    FROM plant_data\n",
        "\"\"\")\n",
        "\n",
        "print(\"✓ Column names cleaned using exact CSV structure!\")"
      ]
    },
    {
      "cell_type": "code",
      "execution_count": null,
      "metadata": {
        "colab": {
          "base_uri": "https://localhost:8080/"
        },
        "id": "9BF_rb3nqIyX",
        "outputId": "2951b9ca-2b7f-4190-89cb-00fa9ec8ccf2"
      },
      "outputs": [
        {
          "output_type": "stream",
          "name": "stdout",
          "text": [
            "\n",
            "Testing cleaned data:\n",
            "+------+------------------+------------------+---------------------+------------------+------------------+------------------+------------------+---------------------+------------------+-----------------+---------------------+------------------+-----+\n",
            "|Random|       chlorophyll|       height_rate|wet_weight_vegetative|         leaf_area|        leaf_count|     root_diameter|   dry_weight_root|dry_matter_vegetative|       root_length|  wet_weight_root|dry_weight_vegetative|   dry_matter_root|Class|\n",
            "+------+------------------+------------------+---------------------+------------------+------------------+------------------+------------------+---------------------+------------------+-----------------+---------------------+------------------+-----+\n",
            "|    R1| 34.53346785732356| 54.56698291488631|   1.1474490163213231|1284.2295490809163| 4.999713080337564|16.274917909603804|1.7068098312939444|     18.3999815454843|19.739037367484507|   2.949240289382|  0.20925092418014135| 57.63390559200267|   SA|\n",
            "|    R1|34.489028306353774|54.567692119609205|     1.14952979764288|1284.2477438838728|5.0242591545154855| 16.26945189117167|1.7009296662879505|    18.39828850474991|19.758835718631143|2.943137388074499|   0.2161538792486169|57.633697112726246|   SA|\n",
            "|    R2|33.100404726849035| 67.06734370835316|   1.1046472057956482|1009.2089958405224| 5.007651977964805|15.980759942209026|1.1853914852825433|   19.398788776500265|20.840821891276754| 2.86163502538269|  0.20011288929084536| 41.28987494855647|   SA|\n",
            "+------+------------------+------------------+---------------------+------------------+------------------+------------------+------------------+---------------------+------------------+-----------------+---------------------+------------------+-----+\n",
            "\n"
          ]
        }
      ],
      "source": [
        "# Test the cleaned view\n",
        "print(\"\\nTesting cleaned data:\")\n",
        "spark.sql(\"SELECT * FROM plant_data_clean LIMIT 3\").show()"
      ]
    },
    {
      "cell_type": "code",
      "execution_count": null,
      "metadata": {
        "colab": {
          "base_uri": "https://localhost:8080/"
        },
        "id": "YbYSVqVNqP7Z",
        "outputId": "56ab079e-b73a-4426-e1bb-e39038a6e0fc"
      },
      "outputs": [
        {
          "output_type": "stream",
          "name": "stdout",
          "text": [
            "\n",
            "============================================================\n",
            "FEATURE ENGINEERING FOR ASSIGNMENT COMPLIANCE\n",
            "============================================================\n"
          ]
        }
      ],
      "source": [
        "# ============================================================================\n",
        "# SECTION 2: FEATURE ENGINEERING FOR ASSIGNMENT COMPLIANCE\n",
        "# ============================================================================\n",
        "\n",
        "print(\"\\n\" + \"=\" * 60)\n",
        "print(\"FEATURE ENGINEERING FOR ASSIGNMENT COMPLIANCE\")\n",
        "print(\"=\" * 60)\n"
      ]
    },
    {
      "cell_type": "code",
      "execution_count": null,
      "metadata": {
        "colab": {
          "base_uri": "https://localhost:8080/"
        },
        "id": "Xsd4pwBjqX3c",
        "outputId": "787e8f3b-aaba-4be7-e8b7-c73022b6399c"
      },
      "outputs": [
        {
          "output_type": "stream",
          "name": "stdout",
          "text": [
            "✓ Feature engineering completed!\n"
          ]
        }
      ],
      "source": [
        "# Create all required data types using cleaned column names\n",
        "spark.sql(\"\"\"\n",
        "    CREATE OR REPLACE TEMPORARY VIEW plant_features AS\n",
        "    SELECT *,\n",
        "        -- INTEGER FEATURES\n",
        "        CAST(ROUND(leaf_count) AS INT) AS leaf_count_int,\n",
        "        CASE\n",
        "            WHEN height_rate < 45 THEN 1\n",
        "            WHEN height_rate < 60 THEN 2\n",
        "            ELSE 3\n",
        "        END AS height_category,\n",
        "\n",
        "        -- BOOLEAN FEATURES\n",
        "        CASE WHEN chlorophyll > 38.0 THEN true ELSE false END AS high_chlorophyll,\n",
        "        CASE WHEN leaf_area > 1063.0 THEN true ELSE false END AS large_leaf_area,\n",
        "        CASE WHEN root_length > 20.0 THEN true ELSE false END AS deep_roots,\n",
        "        CASE WHEN chlorophyll > 38.0 AND height_rate > 55.0 THEN true ELSE false END AS healthy_plant,\n",
        "\n",
        "        -- CATEGORICAL FEATURES (String)\n",
        "        CASE\n",
        "            WHEN leaf_area < 900 THEN 'Small'\n",
        "            WHEN leaf_area < 1200 THEN 'Medium'\n",
        "            ELSE 'Large'\n",
        "        END AS plant_size,\n",
        "\n",
        "        CASE\n",
        "            WHEN height_rate < 45 THEN 'Early'\n",
        "            WHEN height_rate < 60 THEN 'Mid'\n",
        "            ELSE 'Mature'\n",
        "        END AS growth_stage,\n",
        "\n",
        "        CASE\n",
        "            WHEN chlorophyll < 35 THEN 'Low'\n",
        "            WHEN chlorophyll < 40 THEN 'Medium'\n",
        "            ELSE 'High'\n",
        "        END AS chlorophyll_level,\n",
        "\n",
        "        -- DATE FEATURES\n",
        "        CASE\n",
        "            WHEN Random = 'R1' THEN DATE '2024-01-15'\n",
        "            WHEN Random = 'R2' THEN DATE '2024-02-15'\n",
        "            ELSE DATE '2024-03-15'\n",
        "        END AS measurement_date,\n",
        "\n",
        "        -- DERIVED NUMERICAL FEATURES\n",
        "        ROUND(dry_weight_vegetative / NULLIF(wet_weight_vegetative, 0), 4) AS biomass_ratio,\n",
        "        ROUND(root_length / NULLIF(root_diameter, 0), 2) AS root_efficiency,\n",
        "        ROUND(leaf_count / NULLIF(leaf_area, 0) * 1000, 2) AS leaf_density\n",
        "\n",
        "    FROM plant_data_clean\n",
        "\"\"\")\n",
        "\n",
        "print(\"✓ Feature engineering completed!\")\n"
      ]
    },
    {
      "cell_type": "code",
      "execution_count": null,
      "metadata": {
        "colab": {
          "base_uri": "https://localhost:8080/"
        },
        "id": "ageH-uSTrFoZ",
        "outputId": "9acef8df-d09e-41ec-a12a-cd3a5bc3a994"
      },
      "outputs": [
        {
          "output_type": "stream",
          "name": "stdout",
          "text": [
            "\n",
            "Sample of engineered features:\n",
            "+-----+----------+------------+----------------+--------------+----------------+-------------+\n",
            "|Class|plant_size|growth_stage|high_chlorophyll|leaf_count_int|measurement_date|biomass_ratio|\n",
            "+-----+----------+------------+----------------+--------------+----------------+-------------+\n",
            "|   SA|     Large|         Mid|           false|             5|      2024-01-15|       0.1824|\n",
            "|   SA|     Large|         Mid|           false|             5|      2024-01-15|        0.188|\n",
            "|   SA|    Medium|      Mature|           false|             5|      2024-02-15|       0.1812|\n",
            "|   SA|     Large|         Mid|           false|             5|      2024-01-15|       0.1961|\n",
            "|   SA|    Medium|         Mid|           false|             4|      2024-03-15|       0.3112|\n",
            "+-----+----------+------------+----------------+--------------+----------------+-------------+\n",
            "\n"
          ]
        }
      ],
      "source": [
        "# Verify features\n",
        "print(\"\\nSample of engineered features:\")\n",
        "spark.sql(\"\"\"\n",
        "    SELECT Class, plant_size, growth_stage, high_chlorophyll,\n",
        "           leaf_count_int, measurement_date, biomass_ratio\n",
        "    FROM plant_features\n",
        "    LIMIT 5\n",
        "\"\"\").show()\n"
      ]
    },
    {
      "cell_type": "code",
      "execution_count": null,
      "metadata": {
        "colab": {
          "base_uri": "https://localhost:8080/"
        },
        "id": "a_wOXrGjrLvf",
        "outputId": "e272d456-a34c-4d3b-edb1-3ee414cd82b8"
      },
      "outputs": [
        {
          "output_type": "stream",
          "name": "stdout",
          "text": [
            "\n",
            "============================================================\n",
            "ASSIGNMENT COMPLIANCE VERIFICATION\n",
            "============================================================\n",
            "+----------+--------------+---------------+-------------+-----------+---------------+-------------+\n",
            "|total_rows|unique_classes|avg_chlorophyll|earliest_date|latest_date|size_categories|growth_stages|\n",
            "+----------+--------------+---------------+-------------+-----------+---------------+-------------+\n",
            "|     30000|             6|          38.06|   2024-01-15| 2024-03-15|              3|            3|\n",
            "+----------+--------------+---------------+-------------+-----------+---------------+-------------+\n",
            "\n",
            "✅ ASSIGNMENT REQUIREMENTS FULLY MET:\n",
            "  ✓ Rows: 30,000 (Requirement: ≥500)\n",
            "  ✓ Columns: 14 original + engineered (Requirement: ≥10)\n",
            "  ✓ Data Types (5 different types):\n",
            "    • STRING: Random, Class, plant_size, growth_stage, chlorophyll_level\n",
            "    • DOUBLE/FLOAT: All 12 original measurements + 3 derived ratios\n",
            "    • INTEGER: leaf_count_int, height_category\n",
            "    • BOOLEAN: high_chlorophyll, large_leaf_area, deep_roots, healthy_plant\n",
            "    • DATE: measurement_date\n"
          ]
        }
      ],
      "source": [
        "# ============================================================================\n",
        "# SECTION 3: DATA TYPE COMPLIANCE VERIFICATION\n",
        "# ============================================================================\n",
        "\n",
        "print(\"\\n\" + \"=\" * 60)\n",
        "print(\"ASSIGNMENT COMPLIANCE VERIFICATION\")\n",
        "print(\"=\" * 60)\n",
        "\n",
        "# Check compliance\n",
        "compliance_check = spark.sql(\"\"\"\n",
        "    SELECT\n",
        "        COUNT(*) as total_rows,\n",
        "        COUNT(DISTINCT Class) as unique_classes,\n",
        "        ROUND(AVG(chlorophyll), 2) as avg_chlorophyll,\n",
        "        MIN(measurement_date) as earliest_date,\n",
        "        MAX(measurement_date) as latest_date,\n",
        "        COUNT(DISTINCT plant_size) as size_categories,\n",
        "        COUNT(DISTINCT growth_stage) as growth_stages\n",
        "    FROM plant_features\n",
        "\"\"\")\n",
        "compliance_check.show()\n",
        "\n",
        "print(\"✅ ASSIGNMENT REQUIREMENTS FULLY MET:\")\n",
        "print(f\"  ✓ Rows: 30,000 (Requirement: ≥500)\")\n",
        "print(f\"  ✓ Columns: {len(df.columns)} original + engineered (Requirement: ≥10)\")\n",
        "print(\"  ✓ Data Types (5 different types):\")\n",
        "print(\"    • STRING: Random, Class, plant_size, growth_stage, chlorophyll_level\")\n",
        "print(\"    • DOUBLE/FLOAT: All 12 original measurements + 3 derived ratios\")\n",
        "print(\"    • INTEGER: leaf_count_int, height_category\")\n",
        "print(\"    • BOOLEAN: high_chlorophyll, large_leaf_area, deep_roots, healthy_plant\")\n",
        "print(\"    • DATE: measurement_date\")\n"
      ]
    },
    {
      "cell_type": "code",
      "execution_count": null,
      "metadata": {
        "colab": {
          "base_uri": "https://localhost:8080/"
        },
        "id": "_VKistonrTST",
        "outputId": "1c9cc3a0-121d-4d25-bb7e-719c4e31aef1"
      },
      "outputs": [
        {
          "output_type": "stream",
          "name": "stdout",
          "text": [
            "\n",
            "============================================================\n",
            "EXPLORATORY DATA ANALYSIS\n",
            "============================================================\n",
            "1. Plant Class Distribution:\n",
            "+-----+-----+----------+\n",
            "|Class|count|percentage|\n",
            "+-----+-----+----------+\n",
            "|   SA| 5000|     16.67|\n",
            "|   SB| 5000|     16.67|\n",
            "|   SC| 5000|     16.67|\n",
            "|   TA| 5000|     16.67|\n",
            "|   TB| 5000|     16.67|\n",
            "|   TC| 5000|     16.67|\n",
            "+-----+-----+----------+\n",
            "\n",
            "2. Plant Size Distribution & Performance:\n",
            "+----------+-----+---------------+---------------+-------------+\n",
            "|plant_size|count|avg_chlorophyll|avg_height_rate|avg_leaf_area|\n",
            "+----------+-----+---------------+---------------+-------------+\n",
            "|     Small| 8309|          40.55|          49.78|       774.62|\n",
            "|    Medium|13418|          38.38|           58.2|      1038.67|\n",
            "|     Large| 8273|          35.05|          69.63|      1394.41|\n",
            "+----------+-----+---------------+---------------+-------------+\n",
            "\n",
            "3. High Performance Plants by Class:\n",
            "+-----+-----+-------------+------------------+\n",
            "|Class|total|healthy_count|healthy_percentage|\n",
            "+-----+-----+-------------+------------------+\n",
            "|   TB| 5000|         5000|            100.00|\n",
            "|   SC| 5000|            0|              0.00|\n",
            "|   SA| 5000|            0|              0.00|\n",
            "|   SB| 5000|            0|              0.00|\n",
            "|   TA| 5000|            0|              0.00|\n",
            "|   TC| 5000|            0|              0.00|\n",
            "+-----+-----+-------------+------------------+\n",
            "\n",
            "4. Growth Stage Analysis:\n",
            "+------------+-----+---------------+-----------------+\n",
            "|growth_stage|count|avg_chlorophyll|avg_biomass_ratio|\n",
            "+------------+-----+---------------+-----------------+\n",
            "|       Early| 3316|          35.71|           0.1003|\n",
            "|         Mid|11716|           39.1|           0.2256|\n",
            "|      Mature|14968|          37.77|           0.2557|\n",
            "+------------+-----+---------------+-----------------+\n",
            "\n"
          ]
        }
      ],
      "source": [
        "# ============================================================================\n",
        "# SECTION 4: EXPLORATORY DATA ANALYSIS\n",
        "# ============================================================================\n",
        "\n",
        "print(\"\\n\" + \"=\" * 60)\n",
        "print(\"EXPLORATORY DATA ANALYSIS\")\n",
        "print(\"=\" * 60)\n",
        "\n",
        "# 1. Class distribution\n",
        "print(\"1. Plant Class Distribution:\")\n",
        "spark.sql(\"\"\"\n",
        "    SELECT Class, COUNT(*) as count,\n",
        "           ROUND(COUNT(*) * 100.0 / 30000, 2) as percentage\n",
        "    FROM plant_features\n",
        "    GROUP BY Class\n",
        "    ORDER BY Class\n",
        "\"\"\").show()\n",
        "\n",
        "# 2. Plant size analysis\n",
        "print(\"2. Plant Size Distribution & Performance:\")\n",
        "spark.sql(\"\"\"\n",
        "    SELECT plant_size,\n",
        "           COUNT(*) as count,\n",
        "           ROUND(AVG(chlorophyll), 2) as avg_chlorophyll,\n",
        "           ROUND(AVG(height_rate), 2) as avg_height_rate,\n",
        "           ROUND(AVG(leaf_area), 2) as avg_leaf_area\n",
        "    FROM plant_features\n",
        "    GROUP BY plant_size\n",
        "    ORDER BY\n",
        "        CASE plant_size\n",
        "            WHEN 'Small' THEN 1\n",
        "            WHEN 'Medium' THEN 2\n",
        "            ELSE 3\n",
        "        END\n",
        "\"\"\").show()\n",
        "\n",
        "# 3. High performance analysis\n",
        "print(\"3. High Performance Plants by Class:\")\n",
        "spark.sql(\"\"\"\n",
        "    SELECT Class,\n",
        "           COUNT(*) as total,\n",
        "           SUM(CASE WHEN healthy_plant THEN 1 ELSE 0 END) as healthy_count,\n",
        "           ROUND(AVG(CASE WHEN healthy_plant THEN 1.0 ELSE 0.0 END) * 100, 2) as healthy_percentage\n",
        "    FROM plant_features\n",
        "    GROUP BY Class\n",
        "    ORDER BY healthy_percentage DESC\n",
        "\"\"\").show()\n",
        "\n",
        "# 4. Growth stage analysis\n",
        "print(\"4. Growth Stage Analysis:\")\n",
        "spark.sql(\"\"\"\n",
        "    SELECT growth_stage,\n",
        "           COUNT(*) as count,\n",
        "           ROUND(AVG(chlorophyll), 2) as avg_chlorophyll,\n",
        "           ROUND(AVG(biomass_ratio), 4) as avg_biomass_ratio\n",
        "    FROM plant_features\n",
        "    GROUP BY growth_stage\n",
        "    ORDER BY\n",
        "        CASE growth_stage\n",
        "            WHEN 'Early' THEN 1\n",
        "            WHEN 'Mid' THEN 2\n",
        "            ELSE 3\n",
        "        END\n",
        "\"\"\").show()\n"
      ]
    },
    {
      "cell_type": "code",
      "execution_count": null,
      "metadata": {
        "colab": {
          "base_uri": "https://localhost:8080/"
        },
        "id": "vMnIyBahrZX2",
        "outputId": "d18269d4-8a54-4a1c-b138-ae086fae12ec"
      },
      "outputs": [
        {
          "output_type": "stream",
          "name": "stdout",
          "text": [
            "\n",
            "============================================================\n",
            "MACHINE LEARNING ANALYSIS\n",
            "============================================================\n"
          ]
        }
      ],
      "source": [
        "# ============================================================================\n",
        "# SECTION 5: MACHINE LEARNING TASKS\n",
        "# ============================================================================\n",
        "\n",
        "print(\"\\n\" + \"=\" * 60)\n",
        "print(\"MACHINE LEARNING ANALYSIS\")\n",
        "print(\"=\" * 60)\n",
        "\n",
        "# Get ML data\n",
        "df_ml = spark.sql(\"SELECT * FROM plant_features\")\n",
        "\n",
        "# Feature columns (using clean names)\n",
        "feature_cols = [\"chlorophyll\", \"height_rate\", \"wet_weight_vegetative\",\n",
        "                \"leaf_area\", \"leaf_count\", \"root_diameter\", \"dry_weight_root\",\n",
        "                \"dry_matter_vegetative\", \"root_length\", \"wet_weight_root\",\n",
        "                \"dry_weight_vegetative\", \"dry_matter_root\"]\n",
        "\n",
        "# Create feature vector\n",
        "assembler = VectorAssembler(inputCols=feature_cols, outputCol=\"features\")\n",
        "df_features = assembler.transform(df_ml)\n"
      ]
    },
    {
      "cell_type": "code",
      "execution_count": null,
      "metadata": {
        "colab": {
          "base_uri": "https://localhost:8080/"
        },
        "id": "n_KrKM_rrfhm",
        "outputId": "dcac801e-b152-4493-e8e1-40a48f1e5a2b"
      },
      "outputs": [
        {
          "output_type": "stream",
          "name": "stdout",
          "text": [
            "\n",
            "TASK 1: MULTI-CLASS CLASSIFICATION\n",
            "----------------------------------------\n",
            "Training: 24,035 | Testing: 5,965\n",
            "Random Forest Results:\n",
            "  Accuracy: 1.0000 (100.0%)\n",
            "  F1-Score: 1.0000\n",
            "\n",
            "Feature count mismatch: 7 names vs 12 importances\n",
            "Decision Tree Accuracy: 1.0000\n",
            "\n",
            "⚠️  WARNING: Perfect accuracy (100%) suggests possible data leakage!\n",
            "Common causes:\n",
            "- Target variable 'Class' might be directly correlated with features\n",
            "- Data might contain future information\n",
            "- Features might be derived from the target\n",
            "\n",
            "Class distribution in test set:\n",
            "+-----+-----+\n",
            "|Class|count|\n",
            "+-----+-----+\n",
            "|   SA| 1018|\n",
            "|   SB| 1033|\n",
            "|   SC|  951|\n",
            "|   TA|  975|\n",
            "|   TB| 1011|\n",
            "|   TC|  977|\n",
            "+-----+-----+\n",
            "\n",
            "\n",
            "Confusion Matrix (first few predictions):\n",
            "+-----+----------+--------------------+\n",
            "|Class|prediction|         probability|\n",
            "+-----+----------+--------------------+\n",
            "|   SC|       2.0|[0.0,0.0,1.0,0.0,...|\n",
            "|   SC|       2.0|[0.0,0.0,1.0,0.0,...|\n",
            "|   SC|       2.0|[0.0,0.0,1.0,0.0,...|\n",
            "|   SC|       2.0|[0.0,0.0,1.0,0.0,...|\n",
            "|   SC|       2.0|[0.0,0.0,1.0,0.0,...|\n",
            "|   SC|       2.0|[0.0,0.0,1.0,0.0,...|\n",
            "|   SC|       2.0|[0.0,0.0,1.0,0.0,...|\n",
            "|   SC|       2.0|[0.0,0.0,1.0,0.0,...|\n",
            "|   SC|       2.0|[0.0,0.0,1.0,0.0,...|\n",
            "|   SC|       2.0|[0.0,0.0,1.0,0.0,...|\n",
            "+-----+----------+--------------------+\n",
            "only showing top 10 rows\n",
            "\n"
          ]
        }
      ],
      "source": [
        "# ============================================================================\n",
        "# TASK 1: MULTI-CLASS CLASSIFICATION\n",
        "# ============================================================================\n",
        "\n",
        "print(\"\\nTASK 1: MULTI-CLASS CLASSIFICATION\")\n",
        "print(\"-\" * 40)\n",
        "\n",
        "# Prepare classification data\n",
        "labelIndexer = StringIndexer(inputCol=\"Class\", outputCol=\"label\")\n",
        "labelIndexer_model = labelIndexer.fit(df_features)\n",
        "df_indexed = labelIndexer_model.transform(df_features)\n",
        "\n",
        "# Split data\n",
        "train_data, test_data = df_indexed.randomSplit([0.8, 0.2], seed=42)\n",
        "print(f\"Training: {train_data.count():,} | Testing: {test_data.count():,}\")\n",
        "\n",
        "# Random Forest Classification\n",
        "rf = RandomForestClassifier(featuresCol=\"features\", labelCol=\"label\",\n",
        "                           numTrees=100, maxDepth=10, seed=42)\n",
        "rf_model = rf.fit(train_data)\n",
        "rf_predictions = rf_model.transform(test_data)\n",
        "\n",
        "# Evaluate\n",
        "evaluator = MulticlassClassificationEvaluator(labelCol=\"label\", predictionCol=\"prediction\")\n",
        "rf_accuracy = evaluator.evaluate(rf_predictions, {evaluator.metricName: \"accuracy\"})\n",
        "rf_f1 = evaluator.evaluate(rf_predictions, {evaluator.metricName: \"f1\"})\n",
        "\n",
        "print(f\"Random Forest Results:\")\n",
        "print(f\"  Accuracy: {rf_accuracy:.4f} ({rf_accuracy:.1%})\")\n",
        "print(f\"  F1-Score: {rf_f1:.4f}\")\n",
        "\n",
        "# Fix for Feature importance - define feature names properly\n",
        "try:\n",
        "    # Get the actual feature names from your original DataFrame\n",
        "    # These should be the numeric columns you used to create the features vector\n",
        "    feature_names = [\n",
        "        \"chlorophyll\", \"height_rate\", \"leaf_area\", \"leaf_count\",\n",
        "        \"root_diameter\", \"root_length\", \"biomass_ratio\"\n",
        "    ]\n",
        "\n",
        "    feature_importance = rf_model.featureImportances.toArray()\n",
        "\n",
        "    # Create importance list with proper error handling\n",
        "    if len(feature_names) == len(feature_importance):\n",
        "        importance_list = [(feature_names[i], float(feature_importance[i]))\n",
        "                          for i in range(len(feature_names))]\n",
        "\n",
        "        importance_df = spark.createDataFrame(importance_list, [\"feature\", \"importance\"])\n",
        "        print(\"\\nTop 5 Most Important Features:\")\n",
        "        importance_df.orderBy(desc(\"importance\")).show(5)\n",
        "    else:\n",
        "        print(f\"\\nFeature count mismatch: {len(feature_names)} names vs {len(feature_importance)} importances\")\n",
        "\n",
        "except Exception as e:\n",
        "    print(f\"Error displaying feature importance: {e}\")\n",
        "    print(\"Feature importances (raw):\", rf_model.featureImportances)\n",
        "\n",
        "# Decision Tree for comparison\n",
        "dt = DecisionTreeClassifier(featuresCol=\"features\", labelCol=\"label\", maxDepth=10, seed=42)\n",
        "dt_model = dt.fit(train_data)\n",
        "dt_predictions = dt_model.transform(test_data)\n",
        "\n",
        "dt_accuracy = evaluator.evaluate(dt_predictions, {evaluator.metricName: \"accuracy\"})\n",
        "print(f\"Decision Tree Accuracy: {dt_accuracy:.4f}\")\n",
        "\n",
        "# Check for potential data leakage (100% accuracy is suspicious)\n",
        "print(f\"\\n⚠️  WARNING: Perfect accuracy (100%) suggests possible data leakage!\")\n",
        "print(\"Common causes:\")\n",
        "print(\"- Target variable 'Class' might be directly correlated with features\")\n",
        "print(\"- Data might contain future information\")\n",
        "print(\"- Features might be derived from the target\")\n",
        "\n",
        "# Show class distribution\n",
        "print(\"\\nClass distribution in test set:\")\n",
        "test_data.groupBy(\"Class\").count().orderBy(\"Class\").show()\n",
        "\n",
        "# Show confusion matrix\n",
        "from pyspark.ml.evaluation import MulticlassClassificationEvaluator\n",
        "print(\"\\nConfusion Matrix (first few predictions):\")\n",
        "rf_predictions.select(\"Class\", \"prediction\", \"probability\").show(10)"
      ]
    },
    {
      "cell_type": "code",
      "execution_count": null,
      "metadata": {
        "colab": {
          "base_uri": "https://localhost:8080/"
        },
        "id": "95DMhLqwrtF1",
        "outputId": "46f4b544-4e3e-4ae2-86ab-d8bb0b8e4869"
      },
      "outputs": [
        {
          "output_type": "stream",
          "name": "stdout",
          "text": [
            "\n",
            "TASK 2: REGRESSION ANALYSIS\n",
            "----------------------------------------\n",
            "Linear Regression Results:\n",
            "  R² Score: 0.6204 (62.0%)\n",
            "  RMSE: 2.7175\n",
            "Random Forest Regression Results:\n",
            "  R² Score: 0.9973 (99.7%)\n",
            "  RMSE: 0.2308\n"
          ]
        }
      ],
      "source": [
        "# ============================================================================\n",
        "# TASK 2: REGRESSION ANALYSIS\n",
        "# ============================================================================\n",
        "\n",
        "print(\"\\nTASK 2: REGRESSION ANALYSIS\")\n",
        "print(\"-\" * 40)\n",
        "\n",
        "# Prepare regression data (predict chlorophyll from other features)\n",
        "regression_features = [col for col in feature_cols if col != \"chlorophyll\"]\n",
        "assembler_reg = VectorAssembler(inputCols=regression_features, outputCol=\"features\")\n",
        "df_reg = assembler_reg.transform(df_ml)\n",
        "\n",
        "# Scale features\n",
        "scaler = StandardScaler(inputCol=\"features\", outputCol=\"scaled_features\")\n",
        "scaler_model = scaler.fit(df_reg)\n",
        "df_scaled = scaler_model.transform(df_reg)\n",
        "\n",
        "train_reg, test_reg = df_scaled.randomSplit([0.8, 0.2], seed=42)\n",
        "\n",
        "# Linear Regression\n",
        "lr = LinearRegression(featuresCol=\"scaled_features\", labelCol=\"chlorophyll\", maxIter=100)\n",
        "lr_model = lr.fit(train_reg)\n",
        "lr_predictions = lr_model.transform(test_reg)\n",
        "\n",
        "reg_evaluator = RegressionEvaluator(labelCol=\"chlorophyll\", predictionCol=\"prediction\")\n",
        "lr_rmse = reg_evaluator.evaluate(lr_predictions, {reg_evaluator.metricName: \"rmse\"})\n",
        "lr_r2 = reg_evaluator.evaluate(lr_predictions, {reg_evaluator.metricName: \"r2\"})\n",
        "\n",
        "print(f\"Linear Regression Results:\")\n",
        "print(f\"  R² Score: {lr_r2:.4f} ({lr_r2:.1%})\")\n",
        "print(f\"  RMSE: {lr_rmse:.4f}\")\n",
        "\n",
        "# Random Forest Regression\n",
        "rfr = RandomForestRegressor(featuresCol=\"scaled_features\", labelCol=\"chlorophyll\", numTrees=100)\n",
        "rfr_model = rfr.fit(train_reg)\n",
        "rfr_predictions = rfr_model.transform(test_reg)\n",
        "\n",
        "rfr_rmse = reg_evaluator.evaluate(rfr_predictions, {reg_evaluator.metricName: \"rmse\"})\n",
        "rfr_r2 = reg_evaluator.evaluate(rfr_predictions, {reg_evaluator.metricName: \"r2\"})\n",
        "\n",
        "print(f\"Random Forest Regression Results:\")\n",
        "print(f\"  R² Score: {rfr_r2:.4f} ({rfr_r2:.1%})\")\n",
        "print(f\"  RMSE: {rfr_rmse:.4f}\")\n"
      ]
    },
    {
      "cell_type": "code",
      "execution_count": null,
      "metadata": {
        "colab": {
          "base_uri": "https://localhost:8080/"
        },
        "id": "bZJpVwohr36j",
        "outputId": "0e1587aa-4322-4cc3-ff86-6766a6e5fe28"
      },
      "outputs": [
        {
          "output_type": "stream",
          "name": "stdout",
          "text": [
            "\n",
            "TASK 3: CLUSTERING ANALYSIS\n",
            "----------------------------------------\n",
            "K-Means Clustering Results:\n",
            "  Silhouette Score: 0.5401\n",
            "  Number of Clusters: 6\n",
            "\n",
            "Cluster Characteristics:\n",
            "+-------+-----+---------------+---------------+-------------+\n",
            "|cluster|count|avg_chlorophyll|avg_height_rate|avg_leaf_area|\n",
            "+-------+-----+---------------+---------------+-------------+\n",
            "|      0| 5000|          35.06|          75.63|      1479.67|\n",
            "|      1| 3335|          38.74|          53.82|       699.02|\n",
            "|      2| 1625|           32.7|          37.06|       857.84|\n",
            "|      3| 5000|           43.2|          68.15|      1047.55|\n",
            "|      4| 3349|          46.15|          51.93|       809.53|\n",
            "|      5|11691|          35.38|          54.58|      1098.01|\n",
            "+-------+-----+---------------+---------------+-------------+\n",
            "\n"
          ]
        }
      ],
      "source": [
        "# ============================================================================\n",
        "# TASK 3: CLUSTERING ANALYSIS\n",
        "# ============================================================================\n",
        "\n",
        "print(\"\\nTASK 3: CLUSTERING ANALYSIS\")\n",
        "print(\"-\" * 40)\n",
        "\n",
        "# Prepare clustering data\n",
        "clustering_features = [\"chlorophyll\", \"height_rate\", \"leaf_area\", \"leaf_count\",\n",
        "                      \"root_diameter\", \"root_length\"]\n",
        "assembler_cluster = VectorAssembler(inputCols=clustering_features, outputCol=\"features\")\n",
        "df_cluster = assembler_cluster.transform(df_ml)\n",
        "\n",
        "# Scale features\n",
        "scaler_cluster = StandardScaler(inputCol=\"features\", outputCol=\"scaled_features\")\n",
        "scaler_cluster_model = scaler_cluster.fit(df_cluster)\n",
        "df_cluster_scaled = scaler_cluster_model.transform(df_cluster)\n",
        "\n",
        "# K-Means Clustering\n",
        "kmeans = KMeans(k=6, featuresCol=\"scaled_features\", predictionCol=\"cluster\", seed=42)\n",
        "kmeans_model = kmeans.fit(df_cluster_scaled)\n",
        "df_clustered = kmeans_model.transform(df_cluster_scaled)\n",
        "\n",
        "# Evaluate clustering\n",
        "cluster_evaluator = ClusteringEvaluator(featuresCol=\"scaled_features\", predictionCol=\"cluster\")\n",
        "silhouette = cluster_evaluator.evaluate(df_clustered)\n",
        "\n",
        "print(f\"K-Means Clustering Results:\")\n",
        "print(f\"  Silhouette Score: {silhouette:.4f}\")\n",
        "print(f\"  Number of Clusters: 6\")\n",
        "\n",
        "# Create clustering view for analysis\n",
        "df_clustered.createOrReplaceTempView(\"clustered_data\")\n",
        "\n",
        "# Cluster characteristics\n",
        "print(\"\\nCluster Characteristics:\")\n",
        "spark.sql(\"\"\"\n",
        "    SELECT cluster,\n",
        "           COUNT(*) as count,\n",
        "           ROUND(AVG(chlorophyll), 2) as avg_chlorophyll,\n",
        "           ROUND(AVG(height_rate), 2) as avg_height_rate,\n",
        "           ROUND(AVG(leaf_area), 2) as avg_leaf_area\n",
        "    FROM clustered_data\n",
        "    GROUP BY cluster\n",
        "    ORDER BY cluster\n",
        "\"\"\").show()\n"
      ]
    },
    {
      "cell_type": "code",
      "execution_count": null,
      "metadata": {
        "colab": {
          "base_uri": "https://localhost:8080/"
        },
        "id": "ngRfSBnvr_0Q",
        "outputId": "cb4532ed-2687-48fd-ec30-cd5ead218a88"
      },
      "outputs": [
        {
          "output_type": "stream",
          "name": "stdout",
          "text": [
            "\n",
            "TASK 4: BINARY CLASSIFICATION\n",
            "----------------------------------------\n",
            "Binary Class Distribution:\n",
            "+----------------+-----+----------+\n",
            "|high_performance|count|percentage|\n",
            "+----------------+-----+----------+\n",
            "|               1| 3353|     11.18|\n",
            "|               0|26647|     88.82|\n",
            "+----------------+-----+----------+\n",
            "\n",
            "Binary Classification Results:\n",
            "  Accuracy: 1.0000 (100.0%)\n",
            "  F1-Score: 1.0000\n"
          ]
        }
      ],
      "source": [
        "# ============================================================================\n",
        "# TASK 4: BINARY CLASSIFICATION\n",
        "# ============================================================================\n",
        "\n",
        "print(\"\\nTASK 4: BINARY CLASSIFICATION\")\n",
        "print(\"-\" * 40)\n",
        "\n",
        "# Create binary target\n",
        "spark.sql(\"\"\"\n",
        "    CREATE OR REPLACE TEMPORARY VIEW binary_data AS\n",
        "    SELECT *,\n",
        "        CASE WHEN chlorophyll > 38 AND height_rate > 55 AND leaf_area > 1000\n",
        "             THEN 1 ELSE 0 END AS high_performance\n",
        "    FROM plant_features\n",
        "\"\"\")\n",
        "\n",
        "# Check binary distribution\n",
        "binary_dist = spark.sql(\"\"\"\n",
        "    SELECT high_performance, COUNT(*) as count,\n",
        "           ROUND(COUNT(*) * 100.0 / 30000, 2) as percentage\n",
        "    FROM binary_data\n",
        "    GROUP BY high_performance\n",
        "\"\"\")\n",
        "print(\"Binary Class Distribution:\")\n",
        "binary_dist.show()\n",
        "\n",
        "# Binary classification\n",
        "df_binary = spark.sql(\"SELECT * FROM binary_data\")\n",
        "df_binary_features = assembler.transform(df_binary)\n",
        "\n",
        "train_binary, test_binary = df_binary_features.randomSplit([0.8, 0.2], seed=42)\n",
        "\n",
        "# Logistic Regression\n",
        "lr_binary = LogisticRegression(featuresCol=\"features\", labelCol=\"high_performance\", maxIter=100)\n",
        "lr_binary_model = lr_binary.fit(train_binary)\n",
        "lr_binary_predictions = lr_binary_model.transform(test_binary)\n",
        "\n",
        "binary_evaluator = MulticlassClassificationEvaluator(labelCol=\"high_performance\", predictionCol=\"prediction\")\n",
        "binary_accuracy = binary_evaluator.evaluate(lr_binary_predictions, {binary_evaluator.metricName: \"accuracy\"})\n",
        "binary_f1 = binary_evaluator.evaluate(lr_binary_predictions, {binary_evaluator.metricName: \"f1\"})\n",
        "\n",
        "print(f\"Binary Classification Results:\")\n",
        "print(f\"  Accuracy: {binary_accuracy:.4f} ({binary_accuracy:.1%})\")\n",
        "print(f\"  F1-Score: {binary_f1:.4f}\")\n"
      ]
    },
    {
      "cell_type": "code",
      "execution_count": null,
      "metadata": {
        "colab": {
          "base_uri": "https://localhost:8080/",
          "height": 349
        },
        "id": "952cjt0MsIdU",
        "outputId": "9ac6dccf-bce2-48d0-c673-46f11e13ff4a"
      },
      "outputs": [
        {
          "output_type": "stream",
          "name": "stdout",
          "text": [
            "\n",
            "============================================================\n",
            "TABLEAU DATA EXPORT\n",
            "============================================================\n",
            "Export dataset: 49,955 rows × 18 columns\n",
            "\n",
            "Sample of export data:\n",
            "+------+-----+-------+-----------------+-----------------+------------------+-----------------+------------------+------------------+-------------+----------+------------+-----------------+----------------+---------------+-------------+----------------+----------------+\n",
            "|Random|Class|cluster|      chlorophyll|      height_rate|         leaf_area|       leaf_count|     root_diameter|       root_length|biomass_ratio|plant_size|growth_stage|chlorophyll_level|high_chlorophyll|large_leaf_area|healthy_plant|measurement_date|high_performance|\n",
            "+------+-----+-------+-----------------+-----------------+------------------+-----------------+------------------+------------------+-------------+----------+------------+-----------------+----------------+---------------+-------------+----------------+----------------+\n",
            "|    R2|   SA|      5|33.08714004973169|67.06661668622078|1009.2137962549205|4.999040595828052|15.961316492674742|20.850459213126506|       0.1973|    Medium|      Mature|              Low|           false|          false|        false|      2024-02-15|               0|\n",
            "|    R2|   SB|      0|36.61188945193893|76.98339122201708|1751.0059911449914|4.004032765063313| 19.73394968810793|22.546302884147615|       0.2731|     Large|      Mature|           Medium|           false|           true|        false|      2024-02-15|               1|\n",
            "|    R3|   SC|      5|35.59897487841445|66.44331528720411| 1243.868488815618|5.014849380003901| 23.29536813248947| 23.21404351334326|        0.179|     Large|      Mature|           Medium|           false|           true|        false|      2024-03-15|               0|\n",
            "+------+-----+-------+-----------------+-----------------+------------------+-----------------+------------------+------------------+-------------+----------+------------+-----------------+----------------+---------------+-------------+----------------+----------------+\n",
            "only showing top 3 rows\n",
            "\n",
            "✓ Data exported successfully!\n"
          ]
        },
        {
          "output_type": "display_data",
          "data": {
            "text/plain": [
              "<IPython.core.display.Javascript object>"
            ],
            "application/javascript": [
              "\n",
              "    async function download(id, filename, size) {\n",
              "      if (!google.colab.kernel.accessAllowed) {\n",
              "        return;\n",
              "      }\n",
              "      const div = document.createElement('div');\n",
              "      const label = document.createElement('label');\n",
              "      label.textContent = `Downloading \"${filename}\": `;\n",
              "      div.appendChild(label);\n",
              "      const progress = document.createElement('progress');\n",
              "      progress.max = size;\n",
              "      div.appendChild(progress);\n",
              "      document.body.appendChild(div);\n",
              "\n",
              "      const buffers = [];\n",
              "      let downloaded = 0;\n",
              "\n",
              "      const channel = await google.colab.kernel.comms.open(id);\n",
              "      // Send a message to notify the kernel that we're ready.\n",
              "      channel.send({})\n",
              "\n",
              "      for await (const message of channel.messages) {\n",
              "        // Send a message to notify the kernel that we're ready.\n",
              "        channel.send({})\n",
              "        if (message.buffers) {\n",
              "          for (const buffer of message.buffers) {\n",
              "            buffers.push(buffer);\n",
              "            downloaded += buffer.byteLength;\n",
              "            progress.value = downloaded;\n",
              "          }\n",
              "        }\n",
              "      }\n",
              "      const blob = new Blob(buffers, {type: 'application/binary'});\n",
              "      const a = document.createElement('a');\n",
              "      a.href = window.URL.createObjectURL(blob);\n",
              "      a.download = filename;\n",
              "      div.appendChild(a);\n",
              "      a.click();\n",
              "      div.remove();\n",
              "    }\n",
              "  "
            ]
          },
          "metadata": {}
        },
        {
          "output_type": "display_data",
          "data": {
            "text/plain": [
              "<IPython.core.display.Javascript object>"
            ],
            "application/javascript": [
              "download(\"download_8f3494d8-4527-4d6b-9aa5-653f79dbd9ed\", \"plant_analytics_final.csv\", 8636219)"
            ]
          },
          "metadata": {}
        },
        {
          "output_type": "stream",
          "name": "stdout",
          "text": [
            "✓ File downloaded to your computer!\n"
          ]
        }
      ],
      "source": [
        "# ============================================================================\n",
        "# SECTION 6: TABLEAU DATA EXPORT\n",
        "# ============================================================================\n",
        "\n",
        "print(\"\\n\" + \"=\" * 60)\n",
        "print(\"TABLEAU DATA EXPORT\")\n",
        "print(\"=\" * 60)\n",
        "\n",
        "# Create comprehensive export dataset\n",
        "spark.sql(\"\"\"\n",
        "    CREATE OR REPLACE TEMPORARY VIEW tableau_export AS\n",
        "    SELECT DISTINCT\n",
        "        c.Random,\n",
        "        c.Class,\n",
        "        c.cluster,\n",
        "        c.chlorophyll,\n",
        "        c.height_rate,\n",
        "        c.leaf_area,\n",
        "        c.leaf_count,\n",
        "        c.root_diameter,\n",
        "        c.root_length,\n",
        "        c.biomass_ratio,\n",
        "        c.plant_size,\n",
        "        c.growth_stage,\n",
        "        c.chlorophyll_level,\n",
        "        c.high_chlorophyll,\n",
        "        c.large_leaf_area,\n",
        "        c.healthy_plant,\n",
        "        c.measurement_date,\n",
        "        b.high_performance\n",
        "    FROM (SELECT DISTINCT * FROM clustered_data) c\n",
        "    JOIN (SELECT DISTINCT * FROM binary_data) b ON c.Random = b.Random\n",
        "\"\"\")\n",
        "\n",
        "# Get export data\n",
        "tableau_df = spark.sql(\"SELECT * FROM tableau_export\")\n",
        "print(f\"Export dataset: {tableau_df.count():,} rows × {len(tableau_df.columns)} columns\")\n",
        "\n",
        "# Show sample\n",
        "print(\"\\nSample of export data:\")\n",
        "tableau_df.show(3)\n",
        "\n",
        "# Export to CSV\n",
        "try:\n",
        "    tableau_df.coalesce(1).write.mode(\"overwrite\").option(\"header\", \"true\").csv(\"/content/tableau_export\")\n",
        "\n",
        "    import glob\n",
        "    import shutil\n",
        "    from google.colab import files\n",
        "\n",
        "    csv_files = glob.glob(\"/content/tableau_export/*.csv\")\n",
        "    if csv_files:\n",
        "        shutil.copy(csv_files[0], \"/content/plant_analytics_final.csv\")\n",
        "        print(\"✓ Data exported successfully!\")\n",
        "\n",
        "        # Download file\n",
        "        files.download(\"/content/plant_analytics_final.csv\")\n",
        "        print(\"✓ File downloaded to your computer!\")\n",
        "\n",
        "    else:\n",
        "        print(\"❌ CSV export failed - no files found\")\n",
        "\n",
        "except Exception as e:\n",
        "    print(f\"❌ Export error: {e}\")\n"
      ]
    }
  ],
  "metadata": {
    "colab": {
      "provenance": [],
      "authorship_tag": "ABX9TyNAY9n6c78nPROn2EoQA8oX",
      "include_colab_link": true
    },
    "kernelspec": {
      "display_name": "Python 3",
      "name": "python3"
    },
    "language_info": {
      "name": "python"
    }
  },
  "nbformat": 4,
  "nbformat_minor": 0
}